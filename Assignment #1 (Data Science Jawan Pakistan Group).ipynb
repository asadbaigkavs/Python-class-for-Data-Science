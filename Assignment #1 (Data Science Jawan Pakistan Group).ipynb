{
 "cells": [
  {
   "cell_type": "code",
   "execution_count": 16,
   "metadata": {},
   "outputs": [
    {
     "name": "stdout",
     "output_type": "stream",
     "text": [
      "************TASK # 1************\n",
      "\n",
      "Twinkle, Twinkle, Little Star\n",
      "\t How I wonder What you are!\n",
      "\t\t Up above the world so high\n",
      "\t\t Like a diamond in the sky\n",
      "Twinkle, Twinkle, Little Star\n",
      "\t How I wonder What you are!\n"
     ]
    }
   ],
   "source": [
    "print(\"************TASK # 1************\\n\");\n",
    "print(\"Twinkle, Twinkle, Little Star\");\n",
    "print(\"\\t How I wonder What you are!\");\n",
    "print(\"\\t\\t Up above the world so high\");\n",
    "print(\"\\t\\t Like a diamond in the sky\");\n",
    "print(\"Twinkle, Twinkle, Little Star\");\n",
    "print(\"\\t How I wonder What you are!\");"
   ]
  },
  {
   "cell_type": "code",
   "execution_count": 17,
   "metadata": {},
   "outputs": [
    {
     "name": "stdout",
     "output_type": "stream",
     "text": [
      "************TASK # 2************\n",
      "\n",
      "Python Vervion I am Using\n",
      "3.7.4 (default, Aug  9 2019, 18:34:13) [MSC v.1915 64 bit (AMD64)]\n"
     ]
    }
   ],
   "source": [
    "print(\"************TASK # 2************\\n\");\n",
    "import sys\n",
    "print(\"Python Vervion I am Using\");\n",
    "print(sys.version);"
   ]
  },
  {
   "cell_type": "code",
   "execution_count": 18,
   "metadata": {},
   "outputs": [
    {
     "name": "stdout",
     "output_type": "stream",
     "text": [
      "************TASK # 3************\n",
      "\n",
      "Current date and time : \n",
      "29-12-21 22:11:39\n"
     ]
    }
   ],
   "source": [
    "print(\"************TASK # 3************\\n\");\n",
    "import datetime\n",
    "now = datetime.datetime.now()\n",
    "print (\"Current date and time : \");\n",
    "print (now.strftime(\"%d-%m-%y %H:%M:%S\"));"
   ]
  },
  {
   "cell_type": "code",
   "execution_count": 19,
   "metadata": {},
   "outputs": [
    {
     "name": "stdout",
     "output_type": "stream",
     "text": [
      "************TASK # 4************\n",
      "\n",
      "Input the radius of the circle : 5.65\n",
      "The area of the circle with radius 5.65 is: 100.28749148422018\n"
     ]
    }
   ],
   "source": [
    "print(\"************TASK # 4************\\n\");\n",
    "from math import pi\n",
    "r = float(input (\"Input the radius of the circle : \"))\n",
    "print (\"The area of the circle with radius \" + str(r) + \" is: \" + str(pi * r**2));"
   ]
  },
  {
   "cell_type": "code",
   "execution_count": 20,
   "metadata": {},
   "outputs": [
    {
     "name": "stdout",
     "output_type": "stream",
     "text": [
      "************TASK # 5************\n",
      "\n",
      "Input your First Name : Mirza\n",
      "Input your Last Name : Asad\n",
      "Hello  Asad Mirza\n"
     ]
    }
   ],
   "source": [
    "print(\"************TASK # 5************\\n\");\n",
    "fname = input(\"Input your First Name : \")\n",
    "lname = input(\"Input your Last Name : \")\n",
    "print (\"Hello  \" + lname + \" \" + fname);"
   ]
  },
  {
   "cell_type": "code",
   "execution_count": 1,
   "metadata": {},
   "outputs": [
    {
     "name": "stdout",
     "output_type": "stream",
     "text": [
      "************TASK # 6************\n",
      "\n",
      "Enter first number: 33\n",
      "Enter second number: 67\n",
      "The Sum Of Two Given Numbers Is: 100\n"
     ]
    }
   ],
   "source": [
    "print(\"************TASK # 6************\\n\");\n",
    "num1 = int(input(\"Enter first number: \"))\n",
    "num2 = int(input(\"Enter second number: \"))\n",
    "sum = num1 + num2\n",
    "print(\"The Sum Of Two Given Numbers Is:\", sum);"
   ]
  },
  {
   "cell_type": "code",
   "execution_count": null,
   "metadata": {},
   "outputs": [],
   "source": []
  }
 ],
 "metadata": {
  "kernelspec": {
   "display_name": "Python 3",
   "language": "python",
   "name": "python3"
  },
  "language_info": {
   "codemirror_mode": {
    "name": "ipython",
    "version": 3
   },
   "file_extension": ".py",
   "mimetype": "text/x-python",
   "name": "python",
   "nbconvert_exporter": "python",
   "pygments_lexer": "ipython3",
   "version": "3.7.4"
  }
 },
 "nbformat": 4,
 "nbformat_minor": 2
}
